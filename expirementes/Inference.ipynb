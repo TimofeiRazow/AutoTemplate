{
 "cells": [
  {
   "cell_type": "code",
   "execution_count": 2,
   "id": "80b213e0",
   "metadata": {},
   "outputs": [],
   "source": [
    "# !pip install termcolor==1.1.0 transformers==4.18.0"
   ]
  },
  {
   "cell_type": "code",
   "execution_count": 23,
   "id": "73f81039",
   "metadata": {},
   "outputs": [],
   "source": [
    "from transformers import pipeline\n",
    "from termcolor import colored\n",
    "import torch"
   ]
  },
  {
   "cell_type": "code",
   "execution_count": 28,
   "id": "44668ca1",
   "metadata": {},
   "outputs": [],
   "source": [
    "class Ner_Extractor:\n",
    "    \"\"\"\n",
    "    Labeling each token in sentence as named entity\n",
    "\n",
    "    :param model_checkpoint: name or path to model \n",
    "    :type model_checkpoint: string\n",
    "    \"\"\"\n",
    "    \n",
    "    def __init__(self, model_checkpoint: str):\n",
    "        self.token_pred_pipeline = pipeline(\"token-classification\", \n",
    "                                            model=model_checkpoint, \n",
    "                                            aggregation_strategy=\"average\")\n",
    "    \n",
    "    @staticmethod\n",
    "    def text_color(txt, txt_c=\"blue\", txt_hglt=\"on_yellow\"):\n",
    "        \"\"\"\n",
    "        Coloring part of text \n",
    "        \n",
    "        :param txt: part of text from sentence \n",
    "        :type txt: string\n",
    "        :param txt_c: text color  \n",
    "        :type txt_c: string        \n",
    "        :param txt_hglt: color of text highlighting  \n",
    "        :type txt_hglt: string\n",
    "        :return: string with color labeling\n",
    "        :rtype: string\n",
    "        \"\"\"\n",
    "        return colored(txt, txt_c, txt_hglt)\n",
    "    \n",
    "    @staticmethod\n",
    "    def concat_entities(ner_result):\n",
    "        \"\"\"\n",
    "        Concatenation entities from model output on grouped entities\n",
    "        \n",
    "        :param ner_result: output from model pipeline \n",
    "        :type ner_result: list\n",
    "        :return: list of grouped entities with start - end position in text\n",
    "        :rtype: list\n",
    "        \"\"\"\n",
    "        entities = []\n",
    "        prev_entity = None\n",
    "        prev_end = 0\n",
    "        for i in range(len(ner_result)):\n",
    "            \n",
    "            if (ner_result[i][\"entity_group\"] == prev_entity) &\\\n",
    "               (ner_result[i][\"start\"] == prev_end):\n",
    "                \n",
    "                entities[i-1][2] = ner_result[i][\"end\"]\n",
    "                prev_entity = ner_result[i][\"entity_group\"]\n",
    "                prev_end = ner_result[i][\"end\"]\n",
    "            else:\n",
    "                entities.append([ner_result[i][\"entity_group\"], \n",
    "                                 ner_result[i][\"start\"], \n",
    "                                 ner_result[i][\"end\"]])\n",
    "                prev_entity = ner_result[i][\"entity_group\"]\n",
    "                prev_end = ner_result[i][\"end\"]\n",
    "        \n",
    "        return entities\n",
    "    \n",
    "    \n",
    "    def colored_text(self, text: str, entities: list):\n",
    "        \"\"\"\n",
    "        Highlighting in the text named entities\n",
    "        \n",
    "        :param text: sentence or a part of corpus\n",
    "        :type text: string\n",
    "        :param entities: concated entities on groups with start - end position in text\n",
    "        :type entities: list\n",
    "        :return: Highlighted sentence\n",
    "        :rtype: string\n",
    "        \"\"\"\n",
    "        colored_text = \"\"\n",
    "        init_pos = 0\n",
    "        for ent in entities:\n",
    "            if ent[1] > init_pos:\n",
    "                colored_text += text[init_pos: ent[1]]\n",
    "                colored_text += self.text_color(text[ent[1]: ent[2]]) + f\"({ent[0]})\"\n",
    "                init_pos = ent[2]\n",
    "            else:\n",
    "                colored_text += self.text_color(text[ent[1]: ent[2]]) + f\"({ent[0]})\"\n",
    "                init_pos = ent[2]\n",
    "        \n",
    "        return colored_text\n",
    "    \n",
    "    \n",
    "    def get_entities(self, text: str):\n",
    "        \"\"\"\n",
    "        Extracting entities from text with them position in text\n",
    "        \n",
    "        :param text: input sentence for preparing\n",
    "        :type text: string\n",
    "        :return: list with entities from text\n",
    "        :rtype: list\n",
    "        \"\"\"\n",
    "        assert len(text) > 0, text\n",
    "        entities = self.token_pred_pipeline(text)\n",
    "        concat_ent = self.concat_entities(entities)\n",
    "        \n",
    "        return concat_ent\n",
    "    \n",
    "    \n",
    "    def show_ents_on_text(self, text: str):\n",
    "        \"\"\"\n",
    "        Highlighting named entities in input text \n",
    "        \n",
    "        :param text: input sentence for preparing\n",
    "        :type text: string\n",
    "        :return: Highlighting text\n",
    "        :rtype: string\n",
    "        \"\"\"\n",
    "        assert len(text) > 0, text\n",
    "        entities = self.get_entities(text)\n",
    "        \n",
    "        return self.colored_text(text, entities)"
   ]
  },
  {
   "cell_type": "code",
   "execution_count": 39,
   "id": "aaa0a5bd",
   "metadata": {},
   "outputs": [],
   "source": [
    "seqs_example = [\"\"\"ПОСТАНОВЛЕНИЕ о возбуждении исполнительного производства 12.03.2022\tг. Алматы Алматинская область \"\"\",\n",
    "                \"\"\"Частный судебный исполнитель исполнительного округа Алматинского округа Алматинская область, г. Алматы, ул. Мусрепов 8, Иванов Иван Иванович рассмотрев Ст. 9 п. 11-1. исполнительная надпись; №2345785777098 от 12.03.2022 года о взыскании 150000 тенге \"\"\",\n",
    "                \"\"\"(взыскатель ТОО \"Каз Трейд\" 432567453,  должник Разов Тимофей Дмитриевич 345698676890) поступившего 03.04.2022 года из Суд города Алматы\"\"\"\n",
    "               ]"
   ]
  },
  {
   "cell_type": "code",
   "execution_count": 40,
   "id": "380d9824",
   "metadata": {},
   "outputs": [
    {
     "name": "stderr",
     "output_type": "stream",
     "text": [
      "Device set to use cpu\n"
     ]
    },
    {
     "name": "stdout",
     "output_type": "stream",
     "text": [
      "CPU times: total: 281 ms\n",
      "Wall time: 763 ms\n"
     ]
    }
   ],
   "source": [
    "%%time\n",
    "## init model for inference\n",
    "extractor = Ner_Extractor(model_checkpoint = \"surdan/LaBSE_ner_nerel\")"
   ]
  },
  {
   "cell_type": "code",
   "execution_count": 41,
   "id": "37ebcf51",
   "metadata": {},
   "outputs": [
    {
     "name": "stdout",
     "output_type": "stream",
     "text": [
      "CPU times: total: 0 ns\n",
      "Wall time: 0 ns\n"
     ]
    }
   ],
   "source": [
    "%%time\n",
    "## get highlighting sentences\n",
    "show_entities_in_text = (extractor.show_ents_on_text(i) for i in seqs_example)"
   ]
  },
  {
   "cell_type": "code",
   "execution_count": 42,
   "id": "e03b28c7",
   "metadata": {},
   "outputs": [
    {
     "ename": "IndexError",
     "evalue": "list index out of range",
     "output_type": "error",
     "traceback": [
      "\u001b[1;31m---------------------------------------------------------------------------\u001b[0m",
      "\u001b[1;31mIndexError\u001b[0m                                Traceback (most recent call last)",
      "File \u001b[1;32m<timed exec>:2\u001b[0m\n",
      "File \u001b[1;32m<timed exec>:2\u001b[0m, in \u001b[0;36m<listcomp>\u001b[1;34m(.0)\u001b[0m\n",
      "Cell \u001b[1;32mIn[28], line 97\u001b[0m, in \u001b[0;36mNer_Extractor.get_entities\u001b[1;34m(self, text)\u001b[0m\n\u001b[0;32m     95\u001b[0m \u001b[38;5;28;01massert\u001b[39;00m \u001b[38;5;28mlen\u001b[39m(text) \u001b[38;5;241m>\u001b[39m \u001b[38;5;241m0\u001b[39m, text\n\u001b[0;32m     96\u001b[0m entities \u001b[38;5;241m=\u001b[39m \u001b[38;5;28mself\u001b[39m\u001b[38;5;241m.\u001b[39mtoken_pred_pipeline(text)\n\u001b[1;32m---> 97\u001b[0m concat_ent \u001b[38;5;241m=\u001b[39m \u001b[38;5;28;43mself\u001b[39;49m\u001b[38;5;241;43m.\u001b[39;49m\u001b[43mconcat_entities\u001b[49m\u001b[43m(\u001b[49m\u001b[43mentities\u001b[49m\u001b[43m)\u001b[49m\n\u001b[0;32m     99\u001b[0m \u001b[38;5;28;01mreturn\u001b[39;00m concat_ent\n",
      "Cell \u001b[1;32mIn[28], line 48\u001b[0m, in \u001b[0;36mNer_Extractor.concat_entities\u001b[1;34m(ner_result)\u001b[0m\n\u001b[0;32m     43\u001b[0m \u001b[38;5;28;01mfor\u001b[39;00m i \u001b[38;5;129;01min\u001b[39;00m \u001b[38;5;28mrange\u001b[39m(\u001b[38;5;28mlen\u001b[39m(ner_result)):\n\u001b[0;32m     45\u001b[0m     \u001b[38;5;28;01mif\u001b[39;00m (ner_result[i][\u001b[38;5;124m\"\u001b[39m\u001b[38;5;124mentity_group\u001b[39m\u001b[38;5;124m\"\u001b[39m] \u001b[38;5;241m==\u001b[39m prev_entity) \u001b[38;5;241m&\u001b[39m\\\n\u001b[0;32m     46\u001b[0m        (ner_result[i][\u001b[38;5;124m\"\u001b[39m\u001b[38;5;124mstart\u001b[39m\u001b[38;5;124m\"\u001b[39m] \u001b[38;5;241m==\u001b[39m prev_end):\n\u001b[1;32m---> 48\u001b[0m         \u001b[43mentities\u001b[49m\u001b[43m[\u001b[49m\u001b[43mi\u001b[49m\u001b[38;5;241;43m-\u001b[39;49m\u001b[38;5;241;43m1\u001b[39;49m\u001b[43m]\u001b[49m[\u001b[38;5;241m2\u001b[39m] \u001b[38;5;241m=\u001b[39m ner_result[i][\u001b[38;5;124m\"\u001b[39m\u001b[38;5;124mend\u001b[39m\u001b[38;5;124m\"\u001b[39m]\n\u001b[0;32m     49\u001b[0m         prev_entity \u001b[38;5;241m=\u001b[39m ner_result[i][\u001b[38;5;124m\"\u001b[39m\u001b[38;5;124mentity_group\u001b[39m\u001b[38;5;124m\"\u001b[39m]\n\u001b[0;32m     50\u001b[0m         prev_end \u001b[38;5;241m=\u001b[39m ner_result[i][\u001b[38;5;124m\"\u001b[39m\u001b[38;5;124mend\u001b[39m\u001b[38;5;124m\"\u001b[39m]\n",
      "\u001b[1;31mIndexError\u001b[0m: list index out of range"
     ]
    }
   ],
   "source": [
    "%%time\n",
    "## get list of entities from sentence\n",
    "l_entities = [extractor.get_entities(i) for i in seqs_example]\n",
    "len(l_entities), len(seqs_example)"
   ]
  },
  {
   "cell_type": "code",
   "execution_count": 43,
   "id": "a2d4ae84",
   "metadata": {},
   "outputs": [
    {
     "name": "stdout",
     "output_type": "stream",
     "text": [
      "ПОСТАНОВЛЕНИЕ \u001b[43m\u001b[34mо возбуждении исполнительного производства\u001b[0m(LAW) \u001b[43m\u001b[34m12.03.2022\tг\u001b[0m(DATE). \u001b[43m\u001b[34mАлматы\u001b[0m(CITY) \u001b[43m\u001b[34mАлматинская область\u001b[0m(STATE_OR_PROVINCE)\n",
      "-*--*--*--*--*--*--*--*--*--*--*--*--*--*--*--*--*--*--*--*--*--*--*--*--*-\n"
     ]
    },
    {
     "ename": "IndexError",
     "evalue": "list index out of range",
     "output_type": "error",
     "traceback": [
      "\u001b[1;31m---------------------------------------------------------------------------\u001b[0m",
      "\u001b[1;31mIndexError\u001b[0m                                Traceback (most recent call last)",
      "Cell \u001b[1;32mIn[43], line 3\u001b[0m\n\u001b[0;32m      1\u001b[0m \u001b[38;5;66;03m## print highlighting sentences\u001b[39;00m\n\u001b[0;32m      2\u001b[0m \u001b[38;5;28;01mfor\u001b[39;00m i \u001b[38;5;129;01min\u001b[39;00m \u001b[38;5;28mrange\u001b[39m(\u001b[38;5;28mlen\u001b[39m(seqs_example)):\n\u001b[1;32m----> 3\u001b[0m     \u001b[38;5;28mprint\u001b[39m(\u001b[38;5;28;43mnext\u001b[39;49m\u001b[43m(\u001b[49m\u001b[43mshow_entities_in_text\u001b[49m\u001b[43m,\u001b[49m\u001b[43m \u001b[49m\u001b[38;5;124;43m\"\u001b[39;49m\u001b[38;5;124;43mEnd of generator\u001b[39;49m\u001b[38;5;124;43m\"\u001b[39;49m\u001b[43m)\u001b[49m)\n\u001b[0;32m      4\u001b[0m     \u001b[38;5;28mprint\u001b[39m(\u001b[38;5;124m\"\u001b[39m\u001b[38;5;124m-*-\u001b[39m\u001b[38;5;124m\"\u001b[39m\u001b[38;5;241m*\u001b[39m\u001b[38;5;241m25\u001b[39m)\n",
      "File \u001b[1;32m<timed exec>:2\u001b[0m, in \u001b[0;36m<genexpr>\u001b[1;34m(.0)\u001b[0m\n",
      "Cell \u001b[1;32mIn[28], line 112\u001b[0m, in \u001b[0;36mNer_Extractor.show_ents_on_text\u001b[1;34m(self, text)\u001b[0m\n\u001b[0;32m    103\u001b[0m \u001b[38;5;250m\u001b[39m\u001b[38;5;124;03m\"\"\"\u001b[39;00m\n\u001b[0;32m    104\u001b[0m \u001b[38;5;124;03mHighlighting named entities in input text \u001b[39;00m\n\u001b[0;32m    105\u001b[0m \u001b[38;5;124;03m\u001b[39;00m\n\u001b[1;32m   (...)\u001b[0m\n\u001b[0;32m    109\u001b[0m \u001b[38;5;124;03m:rtype: string\u001b[39;00m\n\u001b[0;32m    110\u001b[0m \u001b[38;5;124;03m\"\"\"\u001b[39;00m\n\u001b[0;32m    111\u001b[0m \u001b[38;5;28;01massert\u001b[39;00m \u001b[38;5;28mlen\u001b[39m(text) \u001b[38;5;241m>\u001b[39m \u001b[38;5;241m0\u001b[39m, text\n\u001b[1;32m--> 112\u001b[0m entities \u001b[38;5;241m=\u001b[39m \u001b[38;5;28;43mself\u001b[39;49m\u001b[38;5;241;43m.\u001b[39;49m\u001b[43mget_entities\u001b[49m\u001b[43m(\u001b[49m\u001b[43mtext\u001b[49m\u001b[43m)\u001b[49m\n\u001b[0;32m    114\u001b[0m \u001b[38;5;28;01mreturn\u001b[39;00m \u001b[38;5;28mself\u001b[39m\u001b[38;5;241m.\u001b[39mcolored_text(text, entities)\n",
      "Cell \u001b[1;32mIn[28], line 97\u001b[0m, in \u001b[0;36mNer_Extractor.get_entities\u001b[1;34m(self, text)\u001b[0m\n\u001b[0;32m     95\u001b[0m \u001b[38;5;28;01massert\u001b[39;00m \u001b[38;5;28mlen\u001b[39m(text) \u001b[38;5;241m>\u001b[39m \u001b[38;5;241m0\u001b[39m, text\n\u001b[0;32m     96\u001b[0m entities \u001b[38;5;241m=\u001b[39m \u001b[38;5;28mself\u001b[39m\u001b[38;5;241m.\u001b[39mtoken_pred_pipeline(text)\n\u001b[1;32m---> 97\u001b[0m concat_ent \u001b[38;5;241m=\u001b[39m \u001b[38;5;28;43mself\u001b[39;49m\u001b[38;5;241;43m.\u001b[39;49m\u001b[43mconcat_entities\u001b[49m\u001b[43m(\u001b[49m\u001b[43mentities\u001b[49m\u001b[43m)\u001b[49m\n\u001b[0;32m     99\u001b[0m \u001b[38;5;28;01mreturn\u001b[39;00m concat_ent\n",
      "Cell \u001b[1;32mIn[28], line 48\u001b[0m, in \u001b[0;36mNer_Extractor.concat_entities\u001b[1;34m(ner_result)\u001b[0m\n\u001b[0;32m     43\u001b[0m \u001b[38;5;28;01mfor\u001b[39;00m i \u001b[38;5;129;01min\u001b[39;00m \u001b[38;5;28mrange\u001b[39m(\u001b[38;5;28mlen\u001b[39m(ner_result)):\n\u001b[0;32m     45\u001b[0m     \u001b[38;5;28;01mif\u001b[39;00m (ner_result[i][\u001b[38;5;124m\"\u001b[39m\u001b[38;5;124mentity_group\u001b[39m\u001b[38;5;124m\"\u001b[39m] \u001b[38;5;241m==\u001b[39m prev_entity) \u001b[38;5;241m&\u001b[39m\\\n\u001b[0;32m     46\u001b[0m        (ner_result[i][\u001b[38;5;124m\"\u001b[39m\u001b[38;5;124mstart\u001b[39m\u001b[38;5;124m\"\u001b[39m] \u001b[38;5;241m==\u001b[39m prev_end):\n\u001b[1;32m---> 48\u001b[0m         \u001b[43mentities\u001b[49m\u001b[43m[\u001b[49m\u001b[43mi\u001b[49m\u001b[38;5;241;43m-\u001b[39;49m\u001b[38;5;241;43m1\u001b[39;49m\u001b[43m]\u001b[49m[\u001b[38;5;241m2\u001b[39m] \u001b[38;5;241m=\u001b[39m ner_result[i][\u001b[38;5;124m\"\u001b[39m\u001b[38;5;124mend\u001b[39m\u001b[38;5;124m\"\u001b[39m]\n\u001b[0;32m     49\u001b[0m         prev_entity \u001b[38;5;241m=\u001b[39m ner_result[i][\u001b[38;5;124m\"\u001b[39m\u001b[38;5;124mentity_group\u001b[39m\u001b[38;5;124m\"\u001b[39m]\n\u001b[0;32m     50\u001b[0m         prev_end \u001b[38;5;241m=\u001b[39m ner_result[i][\u001b[38;5;124m\"\u001b[39m\u001b[38;5;124mend\u001b[39m\u001b[38;5;124m\"\u001b[39m]\n",
      "\u001b[1;31mIndexError\u001b[0m: list index out of range"
     ]
    }
   ],
   "source": [
    "## print highlighting sentences\n",
    "for i in range(len(seqs_example)):\n",
    "    print(next(show_entities_in_text, \"End of generator\"))\n",
    "    print(\"-*-\"*25)"
   ]
  },
  {
   "cell_type": "code",
   "execution_count": null,
   "id": "9ce3e083",
   "metadata": {},
   "outputs": [],
   "source": []
  }
 ],
 "metadata": {
  "kernelspec": {
   "display_name": ".venv",
   "language": "python",
   "name": "python3"
  },
  "language_info": {
   "codemirror_mode": {
    "name": "ipython",
    "version": 3
   },
   "file_extension": ".py",
   "mimetype": "text/x-python",
   "name": "python",
   "nbconvert_exporter": "python",
   "pygments_lexer": "ipython3",
   "version": "3.10.11"
  }
 },
 "nbformat": 4,
 "nbformat_minor": 5
}
